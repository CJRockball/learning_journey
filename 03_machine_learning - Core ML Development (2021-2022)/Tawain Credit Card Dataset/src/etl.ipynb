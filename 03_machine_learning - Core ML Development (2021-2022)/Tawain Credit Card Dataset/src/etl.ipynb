{
 "cells": [
  {
   "cell_type": "markdown",
   "metadata": {},
   "source": [
    "# 3.0 Pipeline"
   ]
  },
  {
   "cell_type": "code",
   "execution_count": 110,
   "metadata": {},
   "outputs": [],
   "source": [
    "import numpy as np\n",
    "import pandas as pd\n",
    "\n",
    "import pathlib\n",
    "import joblib\n",
    "import pickle\n",
    "import matplotlib.pyplot as plt\n",
    "\n",
    "from sklearn.model_selection import train_test_split\n",
    "from sklearn.utils import resample\n",
    "from sklearn.preprocessing import RobustScaler, StandardScaler, OneHotEncoder\n",
    "from sklearn.compose import ColumnTransformer\n",
    "from sklearn.pipeline import Pipeline\n",
    "from sklearn.metrics import accuracy_score, f1_score, precision_score\\\n",
    "                            , recall_score, roc_auc_score\n",
    "\n",
    "import xgboost as xgb\n",
    "from xgboost import XGBClassifier"
   ]
  },
  {
   "cell_type": "code",
   "execution_count": 50,
   "metadata": {},
   "outputs": [],
   "source": [
    "PROJECT_DIR = pathlib.Path().resolve().parent\n",
    "\n",
    "DATA_DIR = PROJECT_DIR / \"data/data_src\"\n",
    "SRC_DATA = DATA_DIR / \"data.csv\""
   ]
  },
  {
   "cell_type": "markdown",
   "metadata": {},
   "source": [
    "#### Load data make X and y"
   ]
  },
  {
   "cell_type": "code",
   "execution_count": 51,
   "metadata": {},
   "outputs": [
    {
     "name": "stdout",
     "output_type": "stream",
     "text": [
      "(10000, 1)\n",
      "(10000, 25)\n"
     ]
    }
   ],
   "source": [
    "source_data = pd.read_csv(SRC_DATA)\n",
    "label_data = source_data[['default.payment.next.month']]\n",
    "features_data = source_data.loc[:,source_data.columns != 'default.payment.next.month']\n",
    "print(label_data.shape)\n",
    "print(features_data.shape)"
   ]
  },
  {
   "cell_type": "markdown",
   "metadata": {},
   "source": [
    "#### Split data in train and test"
   ]
  },
  {
   "cell_type": "code",
   "execution_count": 87,
   "metadata": {},
   "outputs": [
    {
     "name": "stdout",
     "output_type": "stream",
     "text": [
      "(8000, 25)\n",
      "      default.payment.next.month\n",
      "6783                           1\n",
      "3402                           0\n",
      "3459                           0\n",
      "5764                           1\n",
      "6492                           0\n"
     ]
    }
   ],
   "source": [
    "(X_train, X_test, y_train, y_test) = train_test_split(features_data, label_data,\n",
    "                                                      test_size=0.2,\n",
    "                                                      random_state=42, stratify=label_data)\n",
    "print(X_train.shape)"
   ]
  },
  {
   "cell_type": "code",
   "execution_count": 53,
   "metadata": {},
   "outputs": [
    {
     "name": "stdout",
     "output_type": "stream",
     "text": [
      "df_majority.shape (6210, 25) df_minority.shape (1790, 25)\n",
      "df_majority.shape: (6210, 25) df_minority_upsampled.shape: (6210, 25)\n",
      "X_train_upsampled.shape: (12420, 25)\n",
      "Y_train_upsampled.shape: (12420, 1)\n"
     ]
    }
   ],
   "source": [
    "#Upsample\n",
    "# Separate majority and minority classes\n",
    "index_majority = y_train[y_train['default.payment.next.month'] == 0].index.values\n",
    "index_minority = y_train[y_train['default.payment.next.month'] == 1].index.values\n",
    "\n",
    "df_majority = X_train.loc[index_majority,:]\n",
    "df_minority = X_train.loc[index_minority,:]\n",
    "\n",
    "print('df_majority.shape', df_majority.shape, 'df_minority.shape', df_minority.shape)\n",
    "\n",
    "# Upsample minority class\n",
    "df_minority_upsampled = resample(df_minority \n",
    "                                 , replace      = True     # sample with replacement\n",
    "                                 , n_samples    = df_majority.shape[0]    # to match majority class\n",
    "                                 , random_state = 42) # reproducible results\n",
    "\n",
    "print('df_majority.shape:', df_majority.shape, 'df_minority_upsampled.shape:', df_minority_upsampled.shape)\n",
    "\n",
    "# Combine majority class with upsampled minority class\n",
    "X_train_upsampled = pd.concat([df_majority, df_minority_upsampled])\n",
    "y_train_upsampled = y_train.loc[X_train_upsampled.index,:]\n",
    "\n",
    "X_train_upsampled = X_train_upsampled.reset_index(drop=True)\n",
    "y_train_upsampled = y_train_upsampled.reset_index(drop=True)\n",
    " \n",
    "# Display new class counts\n",
    "print('X_train_upsampled.shape:', X_train_upsampled.shape)\n",
    "print('y_train_upsampled.shape:', y_train_upsampled.shape)"
   ]
  },
  {
   "cell_type": "code",
   "execution_count": 54,
   "metadata": {},
   "outputs": [],
   "source": [
    "# Use dict to translate\n",
    "GENDER_dict = {1:'male', 2:'female'}\n",
    "GENDER_inv = {v:k for k,v in GENDER_dict.items()}\n",
    "EDUCATION_dict = {0: 'education_other', 1 : 'graduate_school', 2 : 'university', 3: 'high_school'\\\n",
    "                  , 4 : 'education_other', 5 : 'education_other', 6 : 'education_other'}\n",
    "EDUCATION_inv = {v:k for k,v in EDUCATION_dict.items()}\n",
    "MARRIAGE_dict = {0:'marriage_other', 1:'married', 2:'single', 3:'marriage_other'}\n",
    "MARRIAGE_inv = {v:k for k,v in MARRIAGE_dict.items()}\n",
    "label_dict = {0: 'yes', 1:'no'}\n",
    "label_inv = {v:k for k,v in label_dict.items()}"
   ]
  },
  {
   "cell_type": "code",
   "execution_count": 88,
   "metadata": {},
   "outputs": [],
   "source": [
    "X_train = X_train_upsampled\n",
    "\n",
    "# Pre pipeline process\n",
    "# Remove cols ID and Pay_0 to Pay_7 for now\n",
    "cols_to_drop = ['PAY_' + str(i) for i in range(7)] + ['ID']\n",
    "X_train = X_train.drop(columns=cols_to_drop)\n",
    "# Combine categories in categorical data\n",
    "X_train['EDUCATION'] = X_train['EDUCATION'].replace(EDUCATION_dict)\n",
    "X_train['MARRIAGE'] = X_train['MARRIAGE'].replace(MARRIAGE_dict)\n",
    "X_train['SEX'] = X_train['SEX'].replace(MARRIAGE_dict)\n",
    "# Use BAL_AMT = BILL_AMT - PAY_AMT\n",
    "BAL_cols = ['BAL_AMT'+str(i+1) for i in range(6)]\n",
    "BILL_cols = ['BILL_AMT'+str(i+1) for i in range(6)]\n",
    "PAY_cols = ['PAY_AMT'+str(i+1) for i in range(6)]\n",
    "\n",
    "for i,j,k in zip(BAL_cols, BILL_cols,PAY_cols):\n",
    "    X_train[i] = X_train[j] - X_train[k]\n",
    "    X_train = X_train.drop(columns=[j,k])"
   ]
  },
  {
   "cell_type": "code",
   "execution_count": 89,
   "metadata": {},
   "outputs": [
    {
     "name": "stdout",
     "output_type": "stream",
     "text": [
      "   LIMIT_BAL      SEX        EDUCATION MARRIAGE  AGE  BAL_AMT1  BAL_AMT2  \\\n",
      "0    50000.0  married       university   single   45   28359.0   26717.0   \n",
      "1   200000.0   single  graduate_school  married   59   87915.0   89585.0   \n",
      "2    90000.0  married       university   single   32   70114.0   69032.0   \n",
      "3   100000.0   single       university   single   26   50743.0   49820.0   \n",
      "4   500000.0   single  graduate_school   single   38   70605.0   67679.0   \n",
      "\n",
      "   BAL_AMT3  BAL_AMT4  BAL_AMT5  BAL_AMT6  \n",
      "0   14177.0   14949.0   11319.0   15119.0  \n",
      "1   91736.0   94216.0   95690.0   97912.0  \n",
      "2   63954.0   50952.0   45077.0   34547.0  \n",
      "3   43686.0   42497.0   39674.0   40053.0  \n",
      "4   63761.0   65260.0   66143.0   63506.0  \n"
     ]
    }
   ],
   "source": [
    "print(X_train.head())"
   ]
  },
  {
   "cell_type": "code",
   "execution_count": 90,
   "metadata": {},
   "outputs": [
    {
     "name": "stdout",
     "output_type": "stream",
     "text": [
      "['LIMIT_BAL', 'AGE', 'BAL_AMT1', 'BAL_AMT2', 'BAL_AMT3', 'BAL_AMT4', 'BAL_AMT5', 'BAL_AMT6', 'SEX', 'EDUCATION', 'MARRIAGE']\n"
     ]
    }
   ],
   "source": [
    "# Get col types\n",
    "cat_cols = X_train.select_dtypes(include=[\"object\"]).columns\n",
    "num_cols = X_train.select_dtypes(include=[\"number\"]).columns\n",
    "feature_arr = num_cols.to_list() + cat_cols.to_list() \n",
    "label_cols = ['default.payment.next.month']\n",
    "print(feature_arr)"
   ]
  },
  {
   "cell_type": "code",
   "execution_count": 91,
   "metadata": {},
   "outputs": [
    {
     "data": {
      "text/plain": [
       "['C:\\\\Users\\\\PatCa\\\\Documents\\\\PythonScripts\\\\Project1\\\\artifacts\\\\pipe.joblib']"
      ]
     },
     "execution_count": 91,
     "metadata": {},
     "output_type": "execute_result"
    }
   ],
   "source": [
    "# Apply preprocess\n",
    "preprocessor = ColumnTransformer(\n",
    "    transformers=[('nums', RobustScaler(), num_cols), \n",
    "                    ('cats', OneHotEncoder(sparse=False), cat_cols)\n",
    "                    ])\n",
    "\n",
    "# ('pass','passthrough', num_cols)\n",
    "\n",
    "#Transform data\n",
    "pipe = Pipeline(steps=[('preprocessor', preprocessor)])\n",
    "X_train_pipe = pipe.fit_transform(X_train)\n",
    "\n",
    "# Save pipe\n",
    "fname_pipe = PROJECT_DIR / \"artifacts/pipe.joblib\"\n",
    "joblib.dump(pipe, fname_pipe)\n"
   ]
  },
  {
   "cell_type": "code",
   "execution_count": 82,
   "metadata": {},
   "outputs": [
    {
     "name": "stdout",
     "output_type": "stream",
     "text": [
      "['LIMIT_BAL', 'AGE', 'BAL_AMT1', 'BAL_AMT2', 'BAL_AMT3', 'BAL_AMT4', 'BAL_AMT5', 'BAL_AMT6', 'SEX_married', 'SEX_single', 'EDUCATION_education_other', 'EDUCATION_graduate_school', 'EDUCATION_high_school', 'EDUCATION_university', 'MARRIAGE_marriage_other', 'MARRIAGE_married', 'MARRIAGE_single']\n"
     ]
    }
   ],
   "source": [
    "#Make list of feature names after one-hot\n",
    "feature_list = []\n",
    "for name, estimator, features in preprocessor.transformers_:\n",
    "    if hasattr(estimator,'get_feature_names'):\n",
    "        if isinstance(estimator,OneHotEncoder):\n",
    "            f = estimator.get_feature_names_out(features)\n",
    "            feature_list.extend(f)\n",
    "    else:\n",
    "        feature_list.extend(features)\n",
    "        \n",
    "print(feature_list)"
   ]
  },
  {
   "cell_type": "code",
   "execution_count": 92,
   "metadata": {},
   "outputs": [
    {
     "name": "stdout",
     "output_type": "stream",
     "text": [
      "(12420, 17)\n",
      "(2000, 17)\n"
     ]
    }
   ],
   "source": [
    "# Pre pipeline process\n",
    "# Remove cols ID and Pay_0 to Pay_7 for now\n",
    "cols_to_drop = ['PAY_' + str(i) for i in range(7)] + ['ID']\n",
    "X_test = X_test.drop(columns=cols_to_drop)\n",
    "# Combine categories in categorical data\n",
    "X_test['EDUCATION'] = X_test['EDUCATION'].replace(EDUCATION_dict)\n",
    "X_test['MARRIAGE'] = X_test['MARRIAGE'].replace(MARRIAGE_dict)\n",
    "X_test['SEX'] = X_test['SEX'].replace(MARRIAGE_dict)\n",
    "# Use BAL_AMT = BILL_AMT - PAY_AMT\n",
    "BAL_cols = ['BAL_AMT'+str(i+1) for i in range(6)]\n",
    "BILL_cols = ['BILL_AMT'+str(i+1) for i in range(6)]\n",
    "PAY_cols = ['PAY_AMT'+str(i+1) for i in range(6)]\n",
    "\n",
    "for i,j,k in zip(BAL_cols, BILL_cols,PAY_cols):\n",
    "    X_test[i] = X_test[j] - X_test[k]\n",
    "    X_test = X_test.drop(columns=[j,k])\n",
    "\n",
    "\n",
    "X_test_pipe = pipe.transform(X_test)\n",
    "print(X_train_pipe.shape)\n",
    "print(X_test_pipe.shape)"
   ]
  },
  {
   "cell_type": "code",
   "execution_count": 93,
   "metadata": {},
   "outputs": [],
   "source": [
    "pd.DataFrame(X_train_pipe, columns=feature_list).to_csv(PROJECT_DIR / \"data/data_artifacts/X_train_pipe.csv\", index=False)\n",
    "pd.DataFrame(X_test_pipe, columns=feature_list).to_csv(PROJECT_DIR / \"data/data_artifacts/X_ttest_pipe.csv\", index=False)\n",
    "pd.DataFrame(y_train_upsampled).to_csv(PROJECT_DIR / \"data/data_artifacts/y_train.csv\", index=False)\n",
    "pd.DataFrame(y_test).to_csv(PROJECT_DIR / \"data/data_artifacts/y_test.csv\", index=False)"
   ]
  },
  {
   "cell_type": "code",
   "execution_count": 84,
   "metadata": {},
   "outputs": [
    {
     "name": "stdout",
     "output_type": "stream",
     "text": [
      "(8000, 17)\n"
     ]
    },
    {
     "data": {
      "text/html": [
       "<div>\n",
       "<style scoped>\n",
       "    .dataframe tbody tr th:only-of-type {\n",
       "        vertical-align: middle;\n",
       "    }\n",
       "\n",
       "    .dataframe tbody tr th {\n",
       "        vertical-align: top;\n",
       "    }\n",
       "\n",
       "    .dataframe thead th {\n",
       "        text-align: right;\n",
       "    }\n",
       "</style>\n",
       "<table border=\"1\" class=\"dataframe\">\n",
       "  <thead>\n",
       "    <tr style=\"text-align: right;\">\n",
       "      <th></th>\n",
       "      <th>LIMIT_BAL</th>\n",
       "      <th>AGE</th>\n",
       "      <th>BAL_AMT1</th>\n",
       "      <th>BAL_AMT2</th>\n",
       "      <th>BAL_AMT3</th>\n",
       "      <th>BAL_AMT4</th>\n",
       "      <th>BAL_AMT5</th>\n",
       "      <th>BAL_AMT6</th>\n",
       "      <th>SEX_married</th>\n",
       "      <th>SEX_single</th>\n",
       "      <th>EDUCATION_education_other</th>\n",
       "      <th>EDUCATION_graduate_school</th>\n",
       "      <th>EDUCATION_high_school</th>\n",
       "      <th>EDUCATION_university</th>\n",
       "      <th>MARRIAGE_marriage_other</th>\n",
       "      <th>MARRIAGE_married</th>\n",
       "      <th>MARRIAGE_single</th>\n",
       "    </tr>\n",
       "  </thead>\n",
       "  <tbody>\n",
       "    <tr>\n",
       "      <th>0</th>\n",
       "      <td>1.105263</td>\n",
       "      <td>0.769231</td>\n",
       "      <td>-0.273363</td>\n",
       "      <td>-0.307968</td>\n",
       "      <td>-0.257484</td>\n",
       "      <td>-0.344189</td>\n",
       "      <td>-0.316025</td>\n",
       "      <td>-0.302309</td>\n",
       "      <td>0.0</td>\n",
       "      <td>1.0</td>\n",
       "      <td>0.0</td>\n",
       "      <td>1.0</td>\n",
       "      <td>0.0</td>\n",
       "      <td>0.0</td>\n",
       "      <td>0.0</td>\n",
       "      <td>1.0</td>\n",
       "      <td>0.0</td>\n",
       "    </tr>\n",
       "    <tr>\n",
       "      <th>1</th>\n",
       "      <td>-0.473684</td>\n",
       "      <td>0.846154</td>\n",
       "      <td>0.171962</td>\n",
       "      <td>0.150001</td>\n",
       "      <td>-0.060446</td>\n",
       "      <td>-0.034980</td>\n",
       "      <td>-0.079362</td>\n",
       "      <td>0.053784</td>\n",
       "      <td>1.0</td>\n",
       "      <td>0.0</td>\n",
       "      <td>0.0</td>\n",
       "      <td>0.0</td>\n",
       "      <td>0.0</td>\n",
       "      <td>1.0</td>\n",
       "      <td>0.0</td>\n",
       "      <td>0.0</td>\n",
       "      <td>1.0</td>\n",
       "    </tr>\n",
       "    <tr>\n",
       "      <th>2</th>\n",
       "      <td>0.315789</td>\n",
       "      <td>1.923077</td>\n",
       "      <td>1.148678</td>\n",
       "      <td>1.216713</td>\n",
       "      <td>1.318423</td>\n",
       "      <td>1.569184</td>\n",
       "      <td>1.737687</td>\n",
       "      <td>1.893077</td>\n",
       "      <td>0.0</td>\n",
       "      <td>1.0</td>\n",
       "      <td>0.0</td>\n",
       "      <td>1.0</td>\n",
       "      <td>0.0</td>\n",
       "      <td>0.0</td>\n",
       "      <td>0.0</td>\n",
       "      <td>1.0</td>\n",
       "      <td>0.0</td>\n",
       "    </tr>\n",
       "    <tr>\n",
       "      <th>3</th>\n",
       "      <td>-0.473684</td>\n",
       "      <td>0.923077</td>\n",
       "      <td>0.501371</td>\n",
       "      <td>0.418868</td>\n",
       "      <td>0.505136</td>\n",
       "      <td>0.055744</td>\n",
       "      <td>0.086016</td>\n",
       "      <td>0.088462</td>\n",
       "      <td>1.0</td>\n",
       "      <td>0.0</td>\n",
       "      <td>0.0</td>\n",
       "      <td>0.0</td>\n",
       "      <td>1.0</td>\n",
       "      <td>0.0</td>\n",
       "      <td>0.0</td>\n",
       "      <td>0.0</td>\n",
       "      <td>1.0</td>\n",
       "    </tr>\n",
       "    <tr>\n",
       "      <th>4</th>\n",
       "      <td>-0.263158</td>\n",
       "      <td>-0.153846</td>\n",
       "      <td>0.856742</td>\n",
       "      <td>0.867980</td>\n",
       "      <td>0.824506</td>\n",
       "      <td>0.693630</td>\n",
       "      <td>0.647664</td>\n",
       "      <td>0.485388</td>\n",
       "      <td>1.0</td>\n",
       "      <td>0.0</td>\n",
       "      <td>0.0</td>\n",
       "      <td>0.0</td>\n",
       "      <td>0.0</td>\n",
       "      <td>1.0</td>\n",
       "      <td>0.0</td>\n",
       "      <td>0.0</td>\n",
       "      <td>1.0</td>\n",
       "    </tr>\n",
       "  </tbody>\n",
       "</table>\n",
       "</div>"
      ],
      "text/plain": [
       "   LIMIT_BAL       AGE  BAL_AMT1  BAL_AMT2  BAL_AMT3  BAL_AMT4  BAL_AMT5  \\\n",
       "0   1.105263  0.769231 -0.273363 -0.307968 -0.257484 -0.344189 -0.316025   \n",
       "1  -0.473684  0.846154  0.171962  0.150001 -0.060446 -0.034980 -0.079362   \n",
       "2   0.315789  1.923077  1.148678  1.216713  1.318423  1.569184  1.737687   \n",
       "3  -0.473684  0.923077  0.501371  0.418868  0.505136  0.055744  0.086016   \n",
       "4  -0.263158 -0.153846  0.856742  0.867980  0.824506  0.693630  0.647664   \n",
       "\n",
       "   BAL_AMT6  SEX_married  SEX_single  EDUCATION_education_other  \\\n",
       "0 -0.302309          0.0         1.0                        0.0   \n",
       "1  0.053784          1.0         0.0                        0.0   \n",
       "2  1.893077          0.0         1.0                        0.0   \n",
       "3  0.088462          1.0         0.0                        0.0   \n",
       "4  0.485388          1.0         0.0                        0.0   \n",
       "\n",
       "   EDUCATION_graduate_school  EDUCATION_high_school  EDUCATION_university  \\\n",
       "0                        1.0                    0.0                   0.0   \n",
       "1                        0.0                    0.0                   1.0   \n",
       "2                        1.0                    0.0                   0.0   \n",
       "3                        0.0                    1.0                   0.0   \n",
       "4                        0.0                    0.0                   1.0   \n",
       "\n",
       "   MARRIAGE_marriage_other  MARRIAGE_married  MARRIAGE_single  \n",
       "0                      0.0               1.0              0.0  \n",
       "1                      0.0               0.0              1.0  \n",
       "2                      0.0               1.0              0.0  \n",
       "3                      0.0               0.0              1.0  \n",
       "4                      0.0               0.0              1.0  "
      ]
     },
     "execution_count": 84,
     "metadata": {},
     "output_type": "execute_result"
    }
   ],
   "source": [
    "a = pd.read_csv(PROJECT_DIR / \"data/data_artifacts/X_train_pipe.csv\")\n",
    "print(a.shape)\n",
    "a.head()"
   ]
  },
  {
   "cell_type": "markdown",
   "metadata": {},
   "source": [
    "### 4.0 Baseline Model\n",
    "#### Make XGBoost baseline model   "
   ]
  },
  {
   "cell_type": "code",
   "execution_count": 96,
   "metadata": {},
   "outputs": [
    {
     "name": "stdout",
     "output_type": "stream",
     "text": [
      "[0]\tvalidation_0-logloss:0.65582\tvalidation_0-auc:0.71052\tvalidation_1-logloss:0.67225\tvalidation_1-auc:0.61803\n",
      "[1]\tvalidation_0-logloss:0.63424\tvalidation_0-auc:0.73139\tvalidation_1-logloss:0.66076\tvalidation_1-auc:0.63762\n",
      "[2]\tvalidation_0-logloss:0.61713\tvalidation_0-auc:0.74690\tvalidation_1-logloss:0.65542\tvalidation_1-auc:0.63751\n",
      "[3]\tvalidation_0-logloss:0.60261\tvalidation_0-auc:0.75957\tvalidation_1-logloss:0.64866\tvalidation_1-auc:0.64652\n",
      "[4]\tvalidation_0-logloss:0.59400\tvalidation_0-auc:0.76481\tvalidation_1-logloss:0.64591\tvalidation_1-auc:0.64746\n",
      "[5]\tvalidation_0-logloss:0.58771\tvalidation_0-auc:0.77001\tvalidation_1-logloss:0.64406\tvalidation_1-auc:0.64664\n",
      "[6]\tvalidation_0-logloss:0.58212\tvalidation_0-auc:0.77461\tvalidation_1-logloss:0.64232\tvalidation_1-auc:0.64615\n",
      "[7]\tvalidation_0-logloss:0.57167\tvalidation_0-auc:0.78466\tvalidation_1-logloss:0.64096\tvalidation_1-auc:0.64381\n",
      "[8]\tvalidation_0-logloss:0.56647\tvalidation_0-auc:0.79058\tvalidation_1-logloss:0.63874\tvalidation_1-auc:0.64451\n",
      "[9]\tvalidation_0-logloss:0.56304\tvalidation_0-auc:0.79397\tvalidation_1-logloss:0.63826\tvalidation_1-auc:0.64447\n",
      "[10]\tvalidation_0-logloss:0.56041\tvalidation_0-auc:0.79737\tvalidation_1-logloss:0.63797\tvalidation_1-auc:0.64374\n",
      "[11]\tvalidation_0-logloss:0.55749\tvalidation_0-auc:0.80036\tvalidation_1-logloss:0.63739\tvalidation_1-auc:0.64405\n",
      "[12]\tvalidation_0-logloss:0.55434\tvalidation_0-auc:0.80317\tvalidation_1-logloss:0.63643\tvalidation_1-auc:0.64507\n",
      "[13]\tvalidation_0-logloss:0.54553\tvalidation_0-auc:0.81296\tvalidation_1-logloss:0.63599\tvalidation_1-auc:0.64252\n",
      "[14]\tvalidation_0-logloss:0.54056\tvalidation_0-auc:0.81932\tvalidation_1-logloss:0.63568\tvalidation_1-auc:0.64008\n",
      "[15]\tvalidation_0-logloss:0.52936\tvalidation_0-auc:0.83347\tvalidation_1-logloss:0.63357\tvalidation_1-auc:0.64150\n",
      "[16]\tvalidation_0-logloss:0.52812\tvalidation_0-auc:0.83512\tvalidation_1-logloss:0.63266\tvalidation_1-auc:0.64289\n",
      "[17]\tvalidation_0-logloss:0.52678\tvalidation_0-auc:0.83615\tvalidation_1-logloss:0.63261\tvalidation_1-auc:0.64373\n",
      "[18]\tvalidation_0-logloss:0.52493\tvalidation_0-auc:0.83765\tvalidation_1-logloss:0.63270\tvalidation_1-auc:0.64282\n",
      "[19]\tvalidation_0-logloss:0.52419\tvalidation_0-auc:0.83807\tvalidation_1-logloss:0.63229\tvalidation_1-auc:0.64316\n",
      "[20]\tvalidation_0-logloss:0.51950\tvalidation_0-auc:0.84320\tvalidation_1-logloss:0.63252\tvalidation_1-auc:0.64329\n",
      "[21]\tvalidation_0-logloss:0.51776\tvalidation_0-auc:0.84416\tvalidation_1-logloss:0.63210\tvalidation_1-auc:0.64404\n",
      "[22]\tvalidation_0-logloss:0.50772\tvalidation_0-auc:0.85563\tvalidation_1-logloss:0.62979\tvalidation_1-auc:0.64352\n",
      "[23]\tvalidation_0-logloss:0.50558\tvalidation_0-auc:0.85790\tvalidation_1-logloss:0.62854\tvalidation_1-auc:0.64407\n",
      "[24]\tvalidation_0-logloss:0.50189\tvalidation_0-auc:0.86123\tvalidation_1-logloss:0.62788\tvalidation_1-auc:0.64377\n",
      "[25]\tvalidation_0-logloss:0.50065\tvalidation_0-auc:0.86169\tvalidation_1-logloss:0.62750\tvalidation_1-auc:0.64437\n",
      "[26]\tvalidation_0-logloss:0.49597\tvalidation_0-auc:0.86656\tvalidation_1-logloss:0.62702\tvalidation_1-auc:0.64245\n",
      "[27]\tvalidation_0-logloss:0.48738\tvalidation_0-auc:0.87519\tvalidation_1-logloss:0.62610\tvalidation_1-auc:0.64254\n",
      "[28]\tvalidation_0-logloss:0.48524\tvalidation_0-auc:0.87677\tvalidation_1-logloss:0.62683\tvalidation_1-auc:0.64190\n",
      "[29]\tvalidation_0-logloss:0.47549\tvalidation_0-auc:0.88695\tvalidation_1-logloss:0.62303\tvalidation_1-auc:0.64336\n",
      "[30]\tvalidation_0-logloss:0.46878\tvalidation_0-auc:0.89443\tvalidation_1-logloss:0.62128\tvalidation_1-auc:0.64386\n",
      "[31]\tvalidation_0-logloss:0.46760\tvalidation_0-auc:0.89498\tvalidation_1-logloss:0.62125\tvalidation_1-auc:0.64394\n",
      "[32]\tvalidation_0-logloss:0.46407\tvalidation_0-auc:0.89789\tvalidation_1-logloss:0.62142\tvalidation_1-auc:0.64276\n",
      "[33]\tvalidation_0-logloss:0.45850\tvalidation_0-auc:0.90227\tvalidation_1-logloss:0.62116\tvalidation_1-auc:0.64309\n",
      "[34]\tvalidation_0-logloss:0.44895\tvalidation_0-auc:0.91053\tvalidation_1-logloss:0.62032\tvalidation_1-auc:0.63977\n",
      "[35]\tvalidation_0-logloss:0.44785\tvalidation_0-auc:0.91124\tvalidation_1-logloss:0.62001\tvalidation_1-auc:0.64009\n",
      "[36]\tvalidation_0-logloss:0.44501\tvalidation_0-auc:0.91323\tvalidation_1-logloss:0.61955\tvalidation_1-auc:0.64106\n",
      "[37]\tvalidation_0-logloss:0.43954\tvalidation_0-auc:0.91870\tvalidation_1-logloss:0.61889\tvalidation_1-auc:0.63848\n",
      "[38]\tvalidation_0-logloss:0.43279\tvalidation_0-auc:0.92283\tvalidation_1-logloss:0.61776\tvalidation_1-auc:0.63817\n",
      "[39]\tvalidation_0-logloss:0.42985\tvalidation_0-auc:0.92462\tvalidation_1-logloss:0.61734\tvalidation_1-auc:0.63903\n",
      "[40]\tvalidation_0-logloss:0.42781\tvalidation_0-auc:0.92560\tvalidation_1-logloss:0.61756\tvalidation_1-auc:0.63846\n",
      "[41]\tvalidation_0-logloss:0.42703\tvalidation_0-auc:0.92577\tvalidation_1-logloss:0.61805\tvalidation_1-auc:0.63769\n",
      "[42]\tvalidation_0-logloss:0.42274\tvalidation_0-auc:0.92857\tvalidation_1-logloss:0.61689\tvalidation_1-auc:0.63881\n",
      "[43]\tvalidation_0-logloss:0.42223\tvalidation_0-auc:0.92870\tvalidation_1-logloss:0.61705\tvalidation_1-auc:0.63855\n",
      "[44]\tvalidation_0-logloss:0.41568\tvalidation_0-auc:0.93313\tvalidation_1-logloss:0.61533\tvalidation_1-auc:0.63824\n",
      "[45]\tvalidation_0-logloss:0.41240\tvalidation_0-auc:0.93535\tvalidation_1-logloss:0.61425\tvalidation_1-auc:0.63914\n",
      "[46]\tvalidation_0-logloss:0.40978\tvalidation_0-auc:0.93688\tvalidation_1-logloss:0.61379\tvalidation_1-auc:0.63853\n",
      "[47]\tvalidation_0-logloss:0.40348\tvalidation_0-auc:0.94103\tvalidation_1-logloss:0.61428\tvalidation_1-auc:0.63644\n",
      "[48]\tvalidation_0-logloss:0.39664\tvalidation_0-auc:0.94501\tvalidation_1-logloss:0.61201\tvalidation_1-auc:0.63623\n",
      "[49]\tvalidation_0-logloss:0.39104\tvalidation_0-auc:0.94904\tvalidation_1-logloss:0.61101\tvalidation_1-auc:0.63626\n",
      "[50]\tvalidation_0-logloss:0.38807\tvalidation_0-auc:0.95036\tvalidation_1-logloss:0.61116\tvalidation_1-auc:0.63594\n",
      "[51]\tvalidation_0-logloss:0.38413\tvalidation_0-auc:0.95232\tvalidation_1-logloss:0.61086\tvalidation_1-auc:0.63382\n",
      "[52]\tvalidation_0-logloss:0.37974\tvalidation_0-auc:0.95418\tvalidation_1-logloss:0.60977\tvalidation_1-auc:0.63502\n",
      "[53]\tvalidation_0-logloss:0.37871\tvalidation_0-auc:0.95476\tvalidation_1-logloss:0.60941\tvalidation_1-auc:0.63524\n",
      "[54]\tvalidation_0-logloss:0.37634\tvalidation_0-auc:0.95593\tvalidation_1-logloss:0.60953\tvalidation_1-auc:0.63470\n",
      "[55]\tvalidation_0-logloss:0.37381\tvalidation_0-auc:0.95695\tvalidation_1-logloss:0.61067\tvalidation_1-auc:0.63442\n",
      "[56]\tvalidation_0-logloss:0.37308\tvalidation_0-auc:0.95714\tvalidation_1-logloss:0.61079\tvalidation_1-auc:0.63445\n",
      "[57]\tvalidation_0-logloss:0.37143\tvalidation_0-auc:0.95777\tvalidation_1-logloss:0.61113\tvalidation_1-auc:0.63413\n",
      "[58]\tvalidation_0-logloss:0.36767\tvalidation_0-auc:0.95927\tvalidation_1-logloss:0.61051\tvalidation_1-auc:0.63415\n",
      "[59]\tvalidation_0-logloss:0.36692\tvalidation_0-auc:0.95945\tvalidation_1-logloss:0.61066\tvalidation_1-auc:0.63405\n",
      "[60]\tvalidation_0-logloss:0.36511\tvalidation_0-auc:0.96016\tvalidation_1-logloss:0.61033\tvalidation_1-auc:0.63450\n",
      "[61]\tvalidation_0-logloss:0.36432\tvalidation_0-auc:0.96033\tvalidation_1-logloss:0.61024\tvalidation_1-auc:0.63493\n",
      "[62]\tvalidation_0-logloss:0.36397\tvalidation_0-auc:0.96042\tvalidation_1-logloss:0.61038\tvalidation_1-auc:0.63521\n",
      "[63]\tvalidation_0-logloss:0.36150\tvalidation_0-auc:0.96159\tvalidation_1-logloss:0.61030\tvalidation_1-auc:0.63538\n",
      "[64]\tvalidation_0-logloss:0.35749\tvalidation_0-auc:0.96322\tvalidation_1-logloss:0.60965\tvalidation_1-auc:0.63523\n",
      "[65]\tvalidation_0-logloss:0.35241\tvalidation_0-auc:0.96565\tvalidation_1-logloss:0.60837\tvalidation_1-auc:0.63622\n",
      "[66]\tvalidation_0-logloss:0.35063\tvalidation_0-auc:0.96592\tvalidation_1-logloss:0.60857\tvalidation_1-auc:0.63679\n",
      "[67]\tvalidation_0-logloss:0.34996\tvalidation_0-auc:0.96614\tvalidation_1-logloss:0.60920\tvalidation_1-auc:0.63610\n",
      "[68]\tvalidation_0-logloss:0.34770\tvalidation_0-auc:0.96694\tvalidation_1-logloss:0.60825\tvalidation_1-auc:0.63704\n",
      "[69]\tvalidation_0-logloss:0.34742\tvalidation_0-auc:0.96699\tvalidation_1-logloss:0.60837\tvalidation_1-auc:0.63699\n",
      "[70]\tvalidation_0-logloss:0.34603\tvalidation_0-auc:0.96737\tvalidation_1-logloss:0.60827\tvalidation_1-auc:0.63775\n",
      "[71]\tvalidation_0-logloss:0.34548\tvalidation_0-auc:0.96746\tvalidation_1-logloss:0.60847\tvalidation_1-auc:0.63765\n",
      "[72]\tvalidation_0-logloss:0.34456\tvalidation_0-auc:0.96756\tvalidation_1-logloss:0.60779\tvalidation_1-auc:0.63780\n",
      "[73]\tvalidation_0-logloss:0.34155\tvalidation_0-auc:0.96933\tvalidation_1-logloss:0.60573\tvalidation_1-auc:0.63813\n",
      "[74]\tvalidation_0-logloss:0.33910\tvalidation_0-auc:0.96996\tvalidation_1-logloss:0.60537\tvalidation_1-auc:0.63882\n",
      "[75]\tvalidation_0-logloss:0.33656\tvalidation_0-auc:0.97089\tvalidation_1-logloss:0.60549\tvalidation_1-auc:0.63914\n",
      "[76]\tvalidation_0-logloss:0.33579\tvalidation_0-auc:0.97104\tvalidation_1-logloss:0.60550\tvalidation_1-auc:0.63933\n",
      "[77]\tvalidation_0-logloss:0.33168\tvalidation_0-auc:0.97305\tvalidation_1-logloss:0.60428\tvalidation_1-auc:0.63994\n",
      "[78]\tvalidation_0-logloss:0.33005\tvalidation_0-auc:0.97332\tvalidation_1-logloss:0.60380\tvalidation_1-auc:0.63988\n",
      "[79]\tvalidation_0-logloss:0.32905\tvalidation_0-auc:0.97356\tvalidation_1-logloss:0.60322\tvalidation_1-auc:0.64052\n",
      "[80]\tvalidation_0-logloss:0.32726\tvalidation_0-auc:0.97406\tvalidation_1-logloss:0.60302\tvalidation_1-auc:0.64023\n",
      "[81]\tvalidation_0-logloss:0.32629\tvalidation_0-auc:0.97437\tvalidation_1-logloss:0.60271\tvalidation_1-auc:0.64039\n",
      "[82]\tvalidation_0-logloss:0.32467\tvalidation_0-auc:0.97479\tvalidation_1-logloss:0.60316\tvalidation_1-auc:0.64015\n",
      "[83]\tvalidation_0-logloss:0.32418\tvalidation_0-auc:0.97490\tvalidation_1-logloss:0.60333\tvalidation_1-auc:0.64024\n",
      "[84]\tvalidation_0-logloss:0.32102\tvalidation_0-auc:0.97579\tvalidation_1-logloss:0.60154\tvalidation_1-auc:0.64175\n",
      "[85]\tvalidation_0-logloss:0.31998\tvalidation_0-auc:0.97597\tvalidation_1-logloss:0.60168\tvalidation_1-auc:0.64184\n",
      "[86]\tvalidation_0-logloss:0.31636\tvalidation_0-auc:0.97723\tvalidation_1-logloss:0.60200\tvalidation_1-auc:0.64086\n",
      "[87]\tvalidation_0-logloss:0.31095\tvalidation_0-auc:0.97847\tvalidation_1-logloss:0.60122\tvalidation_1-auc:0.64108\n",
      "[88]\tvalidation_0-logloss:0.30906\tvalidation_0-auc:0.97893\tvalidation_1-logloss:0.60122\tvalidation_1-auc:0.63983\n",
      "[89]\tvalidation_0-logloss:0.30630\tvalidation_0-auc:0.97970\tvalidation_1-logloss:0.59930\tvalidation_1-auc:0.64071\n",
      "[90]\tvalidation_0-logloss:0.30277\tvalidation_0-auc:0.98075\tvalidation_1-logloss:0.59893\tvalidation_1-auc:0.63972\n",
      "[91]\tvalidation_0-logloss:0.29944\tvalidation_0-auc:0.98180\tvalidation_1-logloss:0.59941\tvalidation_1-auc:0.63915\n",
      "[92]\tvalidation_0-logloss:0.29626\tvalidation_0-auc:0.98217\tvalidation_1-logloss:0.59956\tvalidation_1-auc:0.63950\n",
      "[93]\tvalidation_0-logloss:0.29524\tvalidation_0-auc:0.98247\tvalidation_1-logloss:0.59977\tvalidation_1-auc:0.63942\n",
      "[94]\tvalidation_0-logloss:0.29483\tvalidation_0-auc:0.98250\tvalidation_1-logloss:0.60001\tvalidation_1-auc:0.63932\n",
      "[95]\tvalidation_0-logloss:0.29289\tvalidation_0-auc:0.98281\tvalidation_1-logloss:0.59982\tvalidation_1-auc:0.63930\n",
      "[96]\tvalidation_0-logloss:0.29267\tvalidation_0-auc:0.98285\tvalidation_1-logloss:0.59972\tvalidation_1-auc:0.63942\n",
      "[97]\tvalidation_0-logloss:0.28993\tvalidation_0-auc:0.98325\tvalidation_1-logloss:0.60046\tvalidation_1-auc:0.63932\n",
      "[98]\tvalidation_0-logloss:0.28896\tvalidation_0-auc:0.98353\tvalidation_1-logloss:0.60086\tvalidation_1-auc:0.63937\n",
      "[99]\tvalidation_0-logloss:0.28859\tvalidation_0-auc:0.98358\tvalidation_1-logloss:0.60150\tvalidation_1-auc:0.63886\n"
     ]
    }
   ],
   "source": [
    "eval_metric = ['logloss','auc']\n",
    "eval_set = [(X_train_pipe, y_train_upsampled),(X_test_pipe, y_test)]\n",
    "\n",
    "clf = XGBClassifier(use_label_encoder=False)\n",
    "xgb_baseline = clf.fit(X_train_pipe, y_train_upsampled,\n",
    "                       eval_set=eval_set, eval_metric=eval_metric,\n",
    "                       #early_stopping_rounds=10, \n",
    "                       verbose=True)"
   ]
  },
  {
   "cell_type": "code",
   "execution_count": 100,
   "metadata": {},
   "outputs": [],
   "source": [
    "# Save Model\n",
    "BASELINE = PROJECT_DIR / \"artifacts/xgb_baseline\"\n",
    "pickle.dump(xgb_baseline, open(BASELINE, \"wb\"))\n",
    "\n",
    "#Load \n",
    "trained_xgb_baseline = pickle.load(open(BASELINE, \"rb\"))"
   ]
  },
  {
   "cell_type": "markdown",
   "metadata": {},
   "source": [
    "### 4.x Checking training"
   ]
  },
  {
   "cell_type": "code",
   "execution_count": 104,
   "metadata": {},
   "outputs": [
    {
     "data": {
      "image/png": "[encoded data removed]",
      "text/plain": [
       "<Figure size 432x288 with 1 Axes>"
      ]
     },
     "metadata": {
      "needs_background": "light"
     },
     "output_type": "display_data"
    },
    {
     "data": {
      "image/png": "[encoded data removed]",
      "text/plain": [
       "<Figure size 432x288 with 1 Axes>"
      ]
     },
     "metadata": {
      "needs_background": "light"
     },
     "output_type": "display_data"
    }
   ],
   "source": [
    "results = trained_xgb_baseline.evals_result()\n",
    "epochs = len(results['validation_0']['logloss'])\n",
    "x_axis = range(0, epochs)\n",
    "# plot log loss\n",
    "fig, ax = plt.subplots()\n",
    "ax.plot(x_axis, results['validation_0']['logloss'], label='Train')\n",
    "ax.plot(x_axis, results['validation_1']['logloss'], label='Test')\n",
    "ax.legend()\n",
    "plt.ylabel('LogLoss')\n",
    "plt.title('XGBoost Baseline - logloss')\n",
    "plt.show()\n",
    "# plot classification error\n",
    "fig, ax = plt.subplots()\n",
    "ax.plot(x_axis, results['validation_0']['auc'], label='Train')\n",
    "ax.plot(x_axis, results['validation_1']['auc'], label='Test')\n",
    "ax.legend()\n",
    "plt.ylabel('auc')\n",
    "plt.title('XGBoost Baseline - auc ')\n",
    "plt.show()"
   ]
  },
  {
   "cell_type": "markdown",
   "metadata": {},
   "source": [
    "### 4.x Baseline metrics"
   ]
  },
  {
   "cell_type": "code",
   "execution_count": 111,
   "metadata": {},
   "outputs": [],
   "source": [
    "def try_func(func, y_data, predictions):\n",
    "    try:\n",
    "        return func(y_data,predictions).round(2)\n",
    "    except Exception as E:\n",
    "        print(E)\n",
    "        return np.nan\n",
    "\n",
    "def calc_metrics(classifier, x_data, y_data):\n",
    "\n",
    "    shape_x, shape_y = (x_data.shape, y_data.shape)\n",
    "    print('Data shapes X:', shape_x, 'Y:', shape_y)\n",
    "    predictions = classifier.predict(x_data) \n",
    "\n",
    "    \n",
    "    acc  = try_func(accuracy_score, y_data, predictions)\n",
    "    f1   = try_func(f1_score, y_data, predictions)\n",
    "    prec = try_func(precision_score, y_data, predictions)\n",
    "    rec  = try_func(recall_score, y_data, predictions)\n",
    "    roc  = try_func(roc_auc_score, y_data, predictions)\n",
    "    \n",
    "\n",
    "    print('Metrics model -', 'accuracy:', acc, 'f1:', f1, 'precision:', prec, 'recall:', rec, 'roc_auc:', roc) \n",
    "    return [acc, f1, prec, rec, roc, shape_x, shape_y]"
   ]
  },
  {
   "cell_type": "code",
   "execution_count": 112,
   "metadata": {},
   "outputs": [
    {
     "name": "stdout",
     "output_type": "stream",
     "text": [
      "Metrics XGB classifier baseline on test data\n",
      "Data shapes X: (2000, 17) Y: (2000, 1)\n",
      "Metrics model - accuracy: 0.69 f1: 0.37 precision: 0.34 recall: 0.42 roc_auc: 0.59\n"
     ]
    }
   ],
   "source": [
    "print(\"Metrics XGB classifier baseline on test data\")\n",
    "results_baseline_test = calc_metrics(trained_xgb_baseline, X_test_pipe, y_test.values)"
   ]
  },
  {
   "cell_type": "code",
   "execution_count": null,
   "metadata": {},
   "outputs": [],
   "source": []
  }
 ],
 "metadata": {
  "interpreter": {
   "hash": "94d4abfaaa6001c61af530d9bfbeea114eeccbd7d1f9528dc422fb7c3022d672"
  },
  "kernelspec": {
   "display_name": "Python 3.8.8 64-bit ('base': conda)",
   "language": "python",
   "name": "python3"
  },
  "language_info": {
   "codemirror_mode": {
    "name": "ipython",
    "version": 3
   },
   "file_extension": ".py",
   "mimetype": "text/x-python",
   "name": "python",
   "nbconvert_exporter": "python",
   "pygments_lexer": "ipython3",
   "version": "3.8.8"
  },
  "orig_nbformat": 4
 },
 "nbformat": 4,
 "nbformat_minor": 2
}
